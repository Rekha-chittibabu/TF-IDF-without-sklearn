{
  "nbformat": 4,
  "nbformat_minor": 0,
  "metadata": {
    "colab": {
      "name": "Rekha-TFIDF-Assignment.ipynb",
      "provenance": [],
      "collapsed_sections": []
    },
    "kernelspec": {
      "display_name": "Python 3",
      "language": "python",
      "name": "python3"
    },
    "language_info": {
      "codemirror_mode": {
        "name": "ipython",
        "version": 3
      },
      "file_extension": ".py",
      "mimetype": "text/x-python",
      "name": "python",
      "nbconvert_exporter": "python",
      "pygments_lexer": "ipython3",
      "version": "3.7.1"
    }
  },
  "cells": [
    {
      "cell_type": "markdown",
      "metadata": {
        "id": "h9464I-uxLiw"
      },
      "source": [
        "# Assignment"
      ]
    },
    {
      "cell_type": "markdown",
      "metadata": {
        "id": "IvLvmewlxLix"
      },
      "source": [
        "<font face='georgia'>\n",
        "    \n",
        "   <h4><strong>What does tf-idf mean?</strong></h4>\n",
        "\n",
        "   <p>    \n",
        "Tf-idf stands for <em>term frequency-inverse document frequency</em>, and the tf-idf weight is a weight often used in information retrieval and text mining. This weight is a statistical measure used to evaluate how important a word is to a document in a collection or corpus. The importance increases proportionally to the number of times a word appears in the document but is offset by the frequency of the word in the corpus. Variations of the tf-idf weighting scheme are often used by search engines as a central tool in scoring and ranking a document's relevance given a user query.\n",
        "</p>\n",
        "    \n",
        "   <p>\n",
        "One of the simplest ranking functions is computed by summing the tf-idf for each query term; many more sophisticated ranking functions are variants of this simple model.\n",
        "</p>\n",
        "    \n",
        "   <p>\n",
        "Tf-idf can be successfully used for stop-words filtering in various subject fields including text summarization and classification.\n",
        "</p>\n",
        "    \n",
        "</font>"
      ]
    },
    {
      "cell_type": "markdown",
      "metadata": {
        "id": "4XLaGFUMxLiy"
      },
      "source": [
        "<font face='georgia'>\n",
        "    <h4><strong>How to Compute:</strong></h4>\n",
        "\n",
        "Typically, the tf-idf weight is composed by two terms: the first computes the normalized Term Frequency (TF), aka. the number of times a word appears in a document, divided by the total number of words in that document; the second term is the Inverse Document Frequency (IDF), computed as the logarithm of the number of the documents in the corpus divided by the number of documents where the specific term appears.\n",
        "\n",
        " <ul>\n",
        "    <li>\n",
        "<strong>TF:</strong> Term Frequency, which measures how frequently a term occurs in a document. Since every document is different in length, it is possible that a term would appear much more times in long documents than shorter ones. Thus, the term frequency is often divided by the document length (aka. the total number of terms in the document) as a way of normalization: <br>\n",
        "\n",
        "$TF(t) = \\frac{\\text{Number of times term t appears in a document}}{\\text{Total number of terms in the document}}.$\n",
        "</li>\n",
        "<li>\n",
        "<strong>IDF:</strong> Inverse Document Frequency, which measures how important a term is. While computing TF, all terms are considered equally important. However it is known that certain terms, such as \"is\", \"of\", and \"that\", may appear a lot of times but have little importance. Thus we need to weigh down the frequent terms while scale up the rare ones, by computing the following: <br>\n",
        "\n",
        "$IDF(t) = \\log_{e}\\frac{\\text{Total  number of documents}} {\\text{Number of documents with term t in it}}.$\n",
        "for numerical stabiltiy we will be changing this formula little bit\n",
        "$IDF(t) = \\log_{e}\\frac{\\text{Total  number of documents}} {\\text{Number of documents with term t in it}+1}.$\n",
        "</li>\n",
        "</ul>\n",
        "\n",
        "<br>\n",
        "<h4><strong>Example</strong></h4>\n",
        "<p>\n",
        "\n",
        "Consider a document containing 100 words wherein the word cat appears 3 times. The term frequency (i.e., tf) for cat is then (3 / 100) = 0.03. Now, assume we have 10 million documents and the word cat appears in one thousand of these. Then, the inverse document frequency (i.e., idf) is calculated as log(10,000,000 / 1,000) = 4. Thus, the Tf-idf weight is the product of these quantities: 0.03 * 4 = 0.12.\n",
        "</p>\n",
        "</font>"
      ]
    },
    {
      "cell_type": "markdown",
      "metadata": {
        "id": "dg2ooa4DxLiz"
      },
      "source": [
        "## Task-1"
      ]
    },
    {
      "cell_type": "markdown",
      "metadata": {
        "id": "TAcTjhO8xLiz"
      },
      "source": [
        "<font face='georgia'>\n",
        "    <h4><strong>1. Build a TFIDF Vectorizer & compare its results with Sklearn:</strong></h4>\n",
        "\n",
        "<ul>\n",
        "    <li> As a part of this task you will be implementing TFIDF vectorizer on a collection of text documents.</li>\n",
        "    <br>\n",
        "    <li> You should compare the results of your own implementation of TFIDF vectorizer with that of sklearns implemenation TFIDF vectorizer.</li>\n",
        "    <br>\n",
        "    <li> Sklearn does few more tweaks in the implementation of its version of TFIDF vectorizer, so to replicate the exact results you would need to add following things to your custom implementation of tfidf vectorizer:\n",
        "       <ol>\n",
        "        <li> Sklearn has its vocabulary generated from idf sroted in alphabetical order</li>\n",
        "        <li> Sklearn formula of idf is different from the standard textbook formula. Here the constant <strong>\"1\"</strong> is added to the numerator and denominator of the idf as if an extra document was seen containing every term in the collection exactly once, which prevents zero divisions.\n",
        "            \n",
        " $IDF(t) = 1+\\log_{e}\\frac{1\\text{ }+\\text{ Total  number of documents in collection}} {1+\\text{Number of documents with term t in it}}.$\n",
        "        </li>\n",
        "        <li> Sklearn applies L2-normalization on its output matrix.</li>\n",
        "        <li> The final output of sklearn tfidf vectorizer is a sparse matrix.</li>\n",
        "    </ol>\n",
        "    <br>\n",
        "    <li>Steps to approach this task:\n",
        "    <ol>\n",
        "        <li> You would have to write both fit and transform methods for your custom implementation of tfidf vectorizer.</li>\n",
        "        <li> Print out the alphabetically sorted voacb after you fit your data and check if its the same as that of the feature names from sklearn tfidf vectorizer. </li>\n",
        "        <li> Print out the idf values from your implementation and check if its the same as that of sklearns tfidf vectorizer idf values. </li>\n",
        "        <li> Once you get your voacb and idf values to be same as that of sklearns implementation of tfidf vectorizer, proceed to the below steps. </li>\n",
        "        <li> Make sure the output of your implementation is a sparse matrix. Before generating the final output, you need to normalize your sparse matrix using L2 normalization. You can refer to this link https://scikit-learn.org/stable/modules/generated/sklearn.preprocessing.normalize.html </li>\n",
        "        <li> After completing the above steps, print the output of your custom implementation and compare it with sklearns implementation of tfidf vectorizer.</li>\n",
        "        <li> To check the output of a single document in your collection of documents,  you can convert the sparse matrix related only to that document into dense matrix and print it.</li>\n",
        "        </ol>\n",
        "    </li>\n",
        "    <br>\n",
        "   </ul>\n",
        "\n",
        "  <p> <font color=\"#e60000\"><strong>Note-1: </strong></font> All the necessary outputs of sklearns tfidf vectorizer have been provided as reference in this notebook, you can compare your outputs as mentioned in the above steps, with these outputs.<br>\n",
        "   <font color=\"#e60000\"><strong>Note-2: </strong></font> The output of your custom implementation and that of sklearns implementation would match only with the collection of document strings provided to you as reference in this notebook. It would not match for strings that contain capital letters or punctuations, etc, because sklearn version of tfidf vectorizer deals with such strings in a different way. To know further details about how sklearn tfidf vectorizer works with such string, you can always refer to its official documentation.<br>\n",
        "   <font color=\"#e60000\"><strong>Note-3: </strong></font> During this task, it would be helpful for you to debug the code you write with print statements wherever necessary. But when you are finally submitting the assignment, make sure your code is readable and try not to print things which are not part of this task.\n",
        "    </p>"
      ]
    },
    {
      "cell_type": "markdown",
      "metadata": {
        "id": "OnV82tg1xLi0"
      },
      "source": [
        "### Corpus"
      ]
    },
    {
      "cell_type": "code",
      "metadata": {
        "id": "bUsYm9wjxLi1"
      },
      "source": [
        "## SkLearn# Collection of string documents\n",
        "\n",
        "corpus = [\n",
        "     'this is the first document',\n",
        "     'this document is the second document',\n",
        "     'and this is the third one',\n",
        "     'is this the first document',\n",
        "]"
      ],
      "execution_count": 3,
      "outputs": []
    },
    {
      "cell_type": "markdown",
      "metadata": {
        "id": "eLwmFZfKxLi4"
      },
      "source": [
        "### SkLearn Implementation"
      ]
    },
    {
      "cell_type": "code",
      "metadata": {
        "id": "Np4dfQOkxLi4"
      },
      "source": [
        "from sklearn.feature_extraction.text import TfidfVectorizer\n",
        "vectorizer = TfidfVectorizer()\n",
        "vectorizer.fit(corpus)\n",
        "skl_output = vectorizer.transform(corpus)"
      ],
      "execution_count": 4,
      "outputs": []
    },
    {
      "cell_type": "code",
      "metadata": {
        "id": "-7Om8YpYxLi6",
        "colab": {
          "base_uri": "https://localhost:8080/"
        },
        "outputId": "a6d9d0d9-e2de-401e-c12a-c38227036ec7"
      },
      "source": [
        "# sklearn feature names, they are sorted in alphabetic order by default\n",
        "print(vectorizer.get_feature_names())\n",
        "# print(vectorizer) bla blaa"
      ],
      "execution_count": 5,
      "outputs": [
        {
          "output_type": "stream",
          "text": [
            "['and', 'document', 'first', 'is', 'one', 'second', 'the', 'third', 'this']\n"
          ],
          "name": "stdout"
        }
      ]
    },
    {
      "cell_type": "code",
      "metadata": {
        "id": "dTKplK96xLi-",
        "colab": {
          "base_uri": "https://localhost:8080/"
        },
        "outputId": "f5f6f38d-0e52-4300-e9d1-25ef5735d5b5"
      },
      "source": [
        "# Here we will print the sklearn tfidf vectorizer idf values after applying the fit method\n",
        "# After using the fit function on the corpus the vocab has 9 words in it, and each has its idf value.\n",
        "\n",
        "print(vectorizer.idf_)"
      ],
      "execution_count": 6,
      "outputs": [
        {
          "output_type": "stream",
          "text": [
            "[1.91629073 1.22314355 1.51082562 1.         1.91629073 1.91629073\n",
            " 1.         1.91629073 1.        ]\n"
          ],
          "name": "stdout"
        }
      ]
    },
    {
      "cell_type": "code",
      "metadata": {
        "id": "-CTiWHygxLjA",
        "colab": {
          "base_uri": "https://localhost:8080/"
        },
        "outputId": "1e683a3a-f806-475b-b74f-ac084092558f"
      },
      "source": [
        "# shape of sklearn tfidf vectorizer output after applying transform method.\n",
        "\n",
        "skl_output.shape"
      ],
      "execution_count": 7,
      "outputs": [
        {
          "output_type": "execute_result",
          "data": {
            "text/plain": [
              "(4, 9)"
            ]
          },
          "metadata": {
            "tags": []
          },
          "execution_count": 7
        }
      ]
    },
    {
      "cell_type": "code",
      "metadata": {
        "id": "bDKEpbA-xLjD",
        "colab": {
          "base_uri": "https://localhost:8080/"
        },
        "outputId": "0e5623d9-768e-485c-eb01-6eddf45317f7"
      },
      "source": [
        "# sklearn tfidf values for first line of the above corpus.\n",
        "# Here the output is a sparse matrix\n",
        "print(skl_output[0])"
      ],
      "execution_count": 8,
      "outputs": [
        {
          "output_type": "stream",
          "text": [
            "  (0, 8)\t0.38408524091481483\n",
            "  (0, 6)\t0.38408524091481483\n",
            "  (0, 3)\t0.38408524091481483\n",
            "  (0, 2)\t0.5802858236844359\n",
            "  (0, 1)\t0.46979138557992045\n"
          ],
          "name": "stdout"
        }
      ]
    },
    {
      "cell_type": "code",
      "metadata": {
        "id": "3QWo34hexLjF",
        "colab": {
          "base_uri": "https://localhost:8080/"
        },
        "outputId": "7e9613ad-8af3-4230-d5d5-60d91859f06a"
      },
      "source": [
        "# sklearn tfidf values for first line of the above corpus.\n",
        "# To understand the output better, here we are converting the sparse output matrix to dense matrix and printing it.\n",
        "# Notice that this output is normalized using L2 normalization. sklearn does this by default.\n",
        "\n",
        "print(skl_output[0].toarray())"
      ],
      "execution_count": 9,
      "outputs": [
        {
          "output_type": "stream",
          "text": [
            "[[0.         0.46979139 0.58028582 0.38408524 0.         0.\n",
            "  0.38408524 0.         0.38408524]]\n"
          ],
          "name": "stdout"
        }
      ]
    },
    {
      "cell_type": "markdown",
      "metadata": {
        "id": "qfIwx5LzxLjI"
      },
      "source": [
        "### Your custom implementation"
      ]
    },
    {
      "cell_type": "code",
      "metadata": {
        "colab": {
          "base_uri": "https://localhost:8080/"
        },
        "id": "Rl2mKd2Lgcfb",
        "outputId": "a2cc9119-8cbf-479d-8a90-2692c8b10890"
      },
      "source": [
        "from google.colab import drive\r\n",
        "drive.mount('/content/mount')"
      ],
      "execution_count": 10,
      "outputs": [
        {
          "output_type": "stream",
          "text": [
            "Mounted at /content/mount\n"
          ],
          "name": "stdout"
        }
      ]
    },
    {
      "cell_type": "code",
      "metadata": {
        "colab": {
          "base_uri": "https://localhost:8080/"
        },
        "id": "ubyXUQsLgnLw",
        "outputId": "2f6b4014-1a64-4eda-c17c-bc44f65fbf79"
      },
      "source": [
        "import os\r\n",
        "os.chdir(\"/content/mount/My Drive/ColabNotebooks\")\r\n",
        "!ls"
      ],
      "execution_count": 18,
      "outputs": [
        {
          "output_type": "stream",
          "text": [
            "'1.Python Assignment.ipynb'\t  haberman.csv\n",
            " cleaned_strings\t\t  Python_Mandatory_Assignment.ipynb\n",
            "'Copy of Db-IMDB-Assignment.db'   Rekha-PythonAssignment.ipynb\n",
            " Db-IMDB-Assignment.db\t\t  SQL_Assignment_Reference.ipynb\n",
            " first.ipynb\t\t\t  Untitled0.ipynb\n"
          ],
          "name": "stdout"
        }
      ]
    },
    {
      "cell_type": "code",
      "metadata": {
        "id": "HjuCcJwXxLjJ"
      },
      "source": [
        "# Write your code here.\n",
        "# Make sure its well documented and readable with appropriate comments.\n",
        "# Compare your results with the above sklearn tfidf vectorizer\n",
        "# You are not supposed to use any other library apart from the ones given below\n",
        "\n",
        "from collections import Counter\n",
        "from tqdm import tqdm\n",
        "from scipy.sparse import csr_matrix\n",
        "import math\n",
        "import operator\n",
        "from sklearn.preprocessing import normalize\n",
        "import numpy"
      ],
      "execution_count": 11,
      "outputs": []
    },
    {
      "cell_type": "code",
      "metadata": {
        "id": "rktM6HvNiG0l",
        "colab": {
          "base_uri": "https://localhost:8080/"
        },
        "outputId": "57e39b38-c71c-41d0-cd13-f7fa1c476166"
      },
      "source": [
        "import warnings \r\n",
        "warnings.filterwarnings(\"ignore\")\r\n",
        "from tqdm import tqdm # tqdm is a library that helps us to visualize the runtime of for loop. refer this to know more about tqdm\r\n",
        "#https://tqdm.github.io/\r\n",
        "def IDF(corpus, unique_words):\r\n",
        "    idf_dict={}\r\n",
        "    N=len(corpus)\r\n",
        "    for i in unique_words:\r\n",
        "        count=0 # to store the no of documents which has the word\r\n",
        "        for row in corpus:\r\n",
        "                if i in row.split():\r\n",
        "                     count=count+1\r\n",
        "        idf_dict[i]=1+math.log( (N+1)/(count+1)) # idfc calculation\r\n",
        "    return idf_dict\r\n",
        "\r\n",
        "def fit(dataset): \r\n",
        "  unique_words=set() # to store the unique words\r\n",
        "  for  sentence in dataset: # for each sentence in the dataset\r\n",
        "    words=sentence.split(' ')\r\n",
        "    for word in words:  #for each word in the list of words \r\n",
        "      unique_words.add(word)\r\n",
        "  unique_words = sorted(list(unique_words))\r\n",
        "  Idf_values_of_all_unique_words = IDF(dataset,unique_words)\r\n",
        "  vocab = {j:i for i,j in enumerate(unique_words)}\r\n",
        "  return vocab, Idf_values_of_all_unique_words\r\n",
        "\r\n",
        "Vocabulary, idf_of_vocabulary = fit(corpus)\r\n",
        "print(Vocabulary,idf_of_vocabulary)\r\n",
        "   "
      ],
      "execution_count": 12,
      "outputs": [
        {
          "output_type": "stream",
          "text": [
            "{'and': 0, 'document': 1, 'first': 2, 'is': 3, 'one': 4, 'second': 5, 'the': 6, 'third': 7, 'this': 8} {'and': 1.916290731874155, 'document': 1.2231435513142097, 'first': 1.5108256237659907, 'is': 1.0, 'one': 1.916290731874155, 'second': 1.916290731874155, 'the': 1.0, 'third': 1.916290731874155, 'this': 1.0}\n"
          ],
          "name": "stdout"
        }
      ]
    },
    {
      "cell_type": "code",
      "metadata": {
        "id": "wpwb1IW4iQP8"
      },
      "source": [
        "def transform(dataset, vocabulary, idf_values):\r\n",
        "    sparse_matrix= csr_matrix( (len(dataset), len(vocabulary)), dtype='float64') # initializing a Compressed Sparse Row matrix\r\n",
        "    for row  in range(0,len(dataset)): # for each row/document in the dataset\r\n",
        "        number_of_words_in_sentence={} # dict which stores word as key and its count in each document as its value\r\n",
        "        words_in_sentence=dataset[row].split() # to get words in the document and store it in a list\r\n",
        "        for word in vocabulary: \r\n",
        "          c=words_in_sentence.count(word) # to get the cound of each word in vocab in a document\r\n",
        "          number_of_words_in_sentence[word]=  c\r\n",
        "        for word in dataset[row].split():\r\n",
        "            if word in  list(vocabulary.keys()):\r\n",
        "                tf_idf_value=(number_of_words_in_sentence[word]/len(dataset[row].split())) * (idf_values[word])\r\n",
        "                sparse_matrix[row,vocabulary[word]]=tf_idf_value # with no of rows as no of docs and columns as no of unique words in the dataset\r\n",
        "\r\n",
        "    output =normalize(sparse_matrix, norm='l2', axis=1, copy=True, return_norm=False) #applying l2 normalization\r\n",
        "    return output "
      ],
      "execution_count": 14,
      "outputs": []
    },
    {
      "cell_type": "markdown",
      "metadata": {
        "id": "rVqMXGEfHWCe"
      },
      "source": [
        ""
      ]
    },
    {
      "cell_type": "code",
      "metadata": {
        "colab": {
          "base_uri": "https://localhost:8080/"
        },
        "id": "qMWC12xbDInR",
        "outputId": "cf7d3086-9ded-4860-b81b-849d2c789338"
      },
      "source": [
        "final_output = transform( corpus , Vocabulary, idf_of_vocabulary )  \r\n",
        "print(final_output[0])"
      ],
      "execution_count": 15,
      "outputs": [
        {
          "output_type": "stream",
          "text": [
            "  (0, 1)\t0.4697913855799205\n",
            "  (0, 2)\t0.580285823684436\n",
            "  (0, 3)\t0.3840852409148149\n",
            "  (0, 6)\t0.3840852409148149\n",
            "  (0, 8)\t0.3840852409148149\n"
          ],
          "name": "stdout"
        }
      ]
    },
    {
      "cell_type": "markdown",
      "metadata": {
        "id": "MMxBmVZExLjK"
      },
      "source": [
        "## Task-2"
      ]
    },
    {
      "cell_type": "markdown",
      "metadata": {
        "id": "51j_OtqAxLjL"
      },
      "source": [
        "<font face='georgia'>\n",
        "    <h4><strong>2. Implement max features functionality:</strong></h4>\n",
        "\n",
        "<ul>\n",
        "    <li> As a part of this task you have to modify your fit and transform functions so that your vocab will contain only 50 terms with top idf scores.</li>\n",
        "    <br>\n",
        "    <li>This task is similar to your previous task, just that here your vocabulary is limited to only top 50 features names based on their idf values. Basically your output will have exactly 50 columns and the number of rows will depend on the number of documents you have in your corpus.</li>\n",
        "    <br>\n",
        "    <li>Here you will be give a pickle file, with file name <strong>cleaned_strings</strong>. You would have to load the corpus from this file and use it as input to your tfidf vectorizer.</li>\n",
        "    <br>\n",
        "    <li>Steps to approach this task:\n",
        "    <ol>\n",
        "        <li> You would have to write both fit and transform methods for your custom implementation of tfidf vectorizer, just like in the previous task. Additionally, here you have to limit the number of features generated to 50 as described above.</li>\n",
        "        <li> Now sort your vocab based in descending order of idf values and print out the words in the sorted voacb after you fit your data. Here you should be getting only 50 terms in your vocab. And make sure to print idf values for each term in your vocab. </li>\n",
        "        <li> Make sure the output of your implementation is a sparse matrix. Before generating the final output, you need to normalize your sparse matrix using L2 normalization. You can refer to this link https://scikit-learn.org/stable/modules/generated/sklearn.preprocessing.normalize.html </li>\n",
        "        <li> Now check the output of a single document in your collection of documents,  you can convert the sparse matrix related only to that document into dense matrix and print it. And this dense matrix should contain 1 row and 50 columns. </li>\n",
        "        </ol>\n",
        "    </li>\n",
        "    <br>\n",
        "   </ul>"
      ]
    },
    {
      "cell_type": "code",
      "metadata": {
        "id": "NHxPLlwNxLjL",
        "colab": {
          "base_uri": "https://localhost:8080/"
        },
        "outputId": "15790231-1b28-4f83-e246-f198a520e3b9"
      },
      "source": [
        "# Below is the code to load the cleaned_strings pickle file provided\n",
        "# Here corpus is of list type\n",
        "\n",
        "import pickle\n",
        "with open('cleaned_strings', 'rb') as f:\n",
        "    corpus = pickle.load(f)\n",
        "    \n",
        "# printing the length of the corpus loaded\n",
        "print(\"Number of documents in corpus = \",len(corpus))"
      ],
      "execution_count": 19,
      "outputs": [
        {
          "output_type": "stream",
          "text": [
            "Number of documents in corpus =  746\n"
          ],
          "name": "stdout"
        }
      ]
    },
    {
      "cell_type": "code",
      "metadata": {
        "colab": {
          "base_uri": "https://localhost:8080/"
        },
        "id": "Mm0FeFuSN0wP",
        "outputId": "3e5df75c-3157-49f5-a43f-1df59b4e6cb9"
      },
      "source": [
        "# printing first 10 documents\r\n",
        "corpus[0:10]"
      ],
      "execution_count": 21,
      "outputs": [
        {
          "output_type": "execute_result",
          "data": {
            "text/plain": [
              "['slow moving aimless movie distressed drifting young man',\n",
              " 'not sure lost flat characters audience nearly half walked',\n",
              " 'attempting artiness black white clever camera angles movie disappointed became even ridiculous acting poor plot lines almost non existent',\n",
              " 'little music anything speak',\n",
              " 'best scene movie gerardo trying find song keeps running head',\n",
              " 'rest movie lacks art charm meaning emptiness works guess empty',\n",
              " 'wasted two hours',\n",
              " 'saw movie today thought good effort good messages kids',\n",
              " 'bit predictable',\n",
              " 'loved casting jimmy buffet science teacher']"
            ]
          },
          "metadata": {
            "tags": []
          },
          "execution_count": 21
        }
      ]
    },
    {
      "cell_type": "code",
      "metadata": {
        "id": "ZULfoOIdxLjQ"
      },
      "source": [
        "# Write your code here.\n",
        "# Try not to hardcode any values.\n",
        "# Make sure its well documented and readble with appropriate comments.\n",
        "\n",
        "def fit(dataset):\n",
        "    unique_words=set() # to store the unique words\n",
        "    for  sentence in dataset: # for each sentence in the input\n",
        "      words=sentence.split(' ')\n",
        "      for word in words:  #for each word in the list of words \n",
        "        unique_words.add(word)\n",
        "    Idf_values_of_all_unique_words=IDF(dataset,unique_words) # Idf of all teh unique words \n",
        "    idf_values_of_top_50_words={}\n",
        "    top_50_words = dict(sorted(Idf_values_of_all_unique_words.items(), key = operator.itemgetter(1), reverse = True)[:50]) \n",
        "    idf_values_of_top_50_words=IDF(dataset,top_50_words)  # to store top 50 words as key and its idf values as values\n",
        "    print(idf_values_of_top_50_words)\n",
        "    Vocab_t2={key:value for value,key in enumerate(list(idf_values_of_top_50_words.keys()))} #key as words with top50 idf values and its index as values\n",
        "    return Vocab_t2, idf_values_of_top_50_words"
      ],
      "execution_count": 25,
      "outputs": []
    },
    {
      "cell_type": "code",
      "metadata": {
        "id": "1_DJnnR3xLjR",
        "colab": {
          "base_uri": "https://localhost:8080/"
        },
        "outputId": "96e230fe-02d7-49c7-a393-94278010df68"
      },
      "source": [
        "vocab_t2,idf_values_of_top_50_words=fit(corpus) \r\n",
        "print(sorted(vocab_t2.items(), key=lambda x:x[1], reverse=True) )"
      ],
      "execution_count": 26,
      "outputs": [
        {
          "output_type": "stream",
          "text": [
            "{'landscapes': 6.922918004572872, 'purity': 6.922918004572872, 'overt': 6.922918004572872, 'endearing': 6.922918004572872, 'sloppy': 6.922918004572872, 'solving': 6.922918004572872, 'bonus': 6.922918004572872, 'side': 6.922918004572872, 'convention': 6.922918004572872, 'subversive': 6.922918004572872, 'reviews': 6.922918004572872, 'mountain': 6.922918004572872, 'holding': 6.922918004572872, 'horrendous': 6.922918004572872, 'joe': 6.922918004572872, 'drag': 6.922918004572872, 'sincere': 6.922918004572872, 'frustration': 6.922918004572872, 'maker': 6.922918004572872, 'executed': 6.922918004572872, 'gabriel': 6.922918004572872, 'fully': 6.922918004572872, 'unremarkable': 6.922918004572872, 'forwarded': 6.922918004572872, 'affleck': 6.922918004572872, 'lassie': 6.922918004572872, 'snow': 6.922918004572872, 'cuts': 6.922918004572872, 'subject': 6.922918004572872, 'perfected': 6.922918004572872, 'tear': 6.922918004572872, 'sits': 6.922918004572872, 'barney': 6.922918004572872, 'channel': 6.922918004572872, 'contract': 6.922918004572872, 'concerns': 6.922918004572872, 'killings': 6.922918004572872, 'scare': 6.922918004572872, 'revenge': 6.922918004572872, 'parker': 6.922918004572872, 'doubt': 6.922918004572872, 'noble': 6.922918004572872, 'uniqueness': 6.922918004572872, 'spoil': 6.922918004572872, 'shattered': 6.922918004572872, 'perplexing': 6.922918004572872, 'ryans': 6.922918004572872, 'pile': 6.922918004572872, 'boost': 6.922918004572872, 'tender': 6.922918004572872}\n",
            "[('tender', 49), ('boost', 48), ('pile', 47), ('ryans', 46), ('perplexing', 45), ('shattered', 44), ('spoil', 43), ('uniqueness', 42), ('noble', 41), ('doubt', 40), ('parker', 39), ('revenge', 38), ('scare', 37), ('killings', 36), ('concerns', 35), ('contract', 34), ('channel', 33), ('barney', 32), ('sits', 31), ('tear', 30), ('perfected', 29), ('subject', 28), ('cuts', 27), ('snow', 26), ('lassie', 25), ('affleck', 24), ('forwarded', 23), ('unremarkable', 22), ('fully', 21), ('gabriel', 20), ('executed', 19), ('maker', 18), ('frustration', 17), ('sincere', 16), ('drag', 15), ('joe', 14), ('horrendous', 13), ('holding', 12), ('mountain', 11), ('reviews', 10), ('subversive', 9), ('convention', 8), ('side', 7), ('bonus', 6), ('solving', 5), ('sloppy', 4), ('endearing', 3), ('overt', 2), ('purity', 1), ('landscapes', 0)]\n"
          ],
          "name": "stdout"
        }
      ]
    },
    {
      "cell_type": "code",
      "metadata": {
        "id": "PwV0vC5DssPV"
      },
      "source": [
        "def transform(dataset, vocab_t2, idf_values_of_top_50_words):\r\n",
        "    sparse_matrix= csr_matrix( (len(dataset), len(vocab_t2)), dtype='float64')\r\n",
        "    for row  in range(0,len(dataset)):\r\n",
        "        number_of_words_in_sentence={}\r\n",
        "        words_in_sentence=dataset[row].split()\r\n",
        "        for word in vocab_t2:\r\n",
        "          c=words_in_sentence.count(word)\r\n",
        "          number_of_words_in_sentence[word]=  c\r\n",
        "        for word in dataset[row].split():\r\n",
        "            if word in  list(vocab_t2.keys()):\r\n",
        "                tf_idf_value=(number_of_words_in_sentence[word]/len(dataset[row].split())) * (idf_values_of_top_50_words[word])\r\n",
        "                sparse_matrix[row,vocab_t2[word]]=tf_idf_value\r\n",
        "\r\n",
        "    output =normalize(sparse_matrix, norm='l2', axis=1, copy=True, return_norm=False)\r\n",
        "    return output "
      ],
      "execution_count": 27,
      "outputs": []
    },
    {
      "cell_type": "code",
      "metadata": {
        "colab": {
          "base_uri": "https://localhost:8080/"
        },
        "id": "T0nMdwg1MOca",
        "outputId": "71f33dfb-1e29-41e5-ff46-63145dcfc67e"
      },
      "source": [
        "final_output = transform( corpus , vocab_t2, idf_values_of_top_50_words ) # Transforming the new vocab \r\n",
        "print(final_output.shape) \r\n",
        "print(final_output)"
      ],
      "execution_count": 28,
      "outputs": [
        {
          "output_type": "stream",
          "text": [
            "(746, 50)\n",
            "  (19, 5)\t1.0\n",
            "  (31, 13)\t1.0\n",
            "  (33, 17)\t1.0\n",
            "  (68, 24)\t1.0\n",
            "  (108, 21)\t0.7071067811865475\n",
            "  (108, 44)\t0.7071067811865475\n",
            "  (109, 38)\t1.0\n",
            "  (132, 15)\t1.0\n",
            "  (135, 1)\t0.5\n",
            "  (135, 22)\t0.5\n",
            "  (135, 29)\t0.5\n",
            "  (135, 31)\t0.5\n",
            "  (148, 30)\t0.7071067811865476\n",
            "  (148, 32)\t0.7071067811865476\n",
            "  (155, 6)\t1.0\n",
            "  (158, 3)\t1.0\n",
            "  (191, 41)\t1.0\n",
            "  (193, 46)\t1.0\n",
            "  (226, 47)\t1.0\n",
            "  (231, 10)\t1.0\n",
            "  (236, 7)\t1.0\n",
            "  (260, 33)\t1.0\n",
            "  (261, 34)\t1.0\n",
            "  (270, 19)\t1.0\n",
            "  (278, 4)\t1.0\n",
            "  (337, 2)\t1.0\n",
            "  (366, 8)\t1.0\n",
            "  (384, 0)\t1.0\n",
            "  (396, 49)\t1.0\n",
            "  (421, 35)\t1.0\n",
            "  (486, 14)\t1.0\n",
            "  (517, 27)\t1.0\n",
            "  (520, 25)\t1.0\n",
            "  (551, 45)\t1.0\n",
            "  (555, 18)\t1.0\n",
            "  (575, 26)\t1.0\n",
            "  (581, 42)\t1.0\n",
            "  (588, 37)\t1.0\n",
            "  (593, 48)\t1.0\n",
            "  (603, 11)\t1.0\n",
            "  (608, 28)\t1.0\n",
            "  (633, 20)\t1.0\n",
            "  (644, 12)\t0.35355339059327373\n",
            "  (644, 23)\t0.35355339059327373\n",
            "  (644, 36)\t0.35355339059327373\n",
            "  (644, 39)\t0.35355339059327373\n",
            "  (644, 43)\t0.7071067811865475\n",
            "  (656, 40)\t1.0\n",
            "  (696, 9)\t1.0\n",
            "  (707, 16)\t1.0\n"
          ],
          "name": "stdout"
        }
      ]
    },
    {
      "cell_type": "code",
      "metadata": {
        "id": "TChlznfQPmYy"
      },
      "source": [
        ""
      ],
      "execution_count": null,
      "outputs": []
    }
  ]
}